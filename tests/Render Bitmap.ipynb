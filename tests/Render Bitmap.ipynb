{
 "cells": [
  {
   "cell_type": "markdown",
   "metadata": {},
   "source": [
    "# Jupyter IPython notebook Capable of Rendering Buffers (rasters) Used/Produced by `test_flate_png.py` tests\n",
    "\n",
    "(requires matplotlib)\n",
    "\n",
    "After running any of these tests (`pytest -k test_flate_png_alt_file`), two files are produced: `./result.pickle` and `./expected.pickle`.\n",
    "\n",
    "These files contain buffers that can be rendered. Both rendered buffers must be identical\n"
   ]
  },
  {
   "cell_type": "markdown",
   "metadata": {},
   "source": [
    "## Boiler plate"
   ]
  },
  {
   "cell_type": "code",
   "execution_count": 1,
   "metadata": {},
   "outputs": [],
   "source": [
    "import matplotlib.pyplot as pyplot\n",
    "import array\n",
    "import ast\n",
    "\n",
    "def pixel(bytes, color_type):\n",
    "    if color_type == 0:\n",
    "        assert len(bytes) == 1, \"expected 1 but got %d\" % len(bytes)\n",
    "        #print bytes\n",
    "        bytes = [bytes[0]/255.0, bytes[0]/255.0, bytes[0]/255.0]\n",
    "        \n",
    "    elif color_type == 2:\n",
    "        assert len(bytes) == 3, \"expected 3 but got %d\" % len(bytes)\n",
    "        #print bytes\n",
    "        bytes = [bytes[0]/255.0, bytes[1]/255.0, bytes[2]/255.0]\n",
    "        \n",
    "    elif color_type == 'rgb':\n",
    "        assert len(bytes) == 3, \"expected 3 but got %d\" % len(bytes)\n",
    "        bytes = [(int)(bytes[0] * 255) % 256, (int)(bytes[1] * 255.0) % 256, (int)(bytes[2] * 255.0) % 256]\n",
    "        \n",
    "    else:\n",
    "        raise ValueError(\"Unsupported color_type %d\" % color_type)\n",
    "    return bytes"
   ]
  },
  {
   "cell_type": "code",
   "execution_count": 2,
   "metadata": {},
   "outputs": [],
   "source": [
    "def rasterizer(data, rowbytes, bytes_per_pixel, color_type, filter_included=False):\n",
    "    raster = []\n",
    "    \n",
    "    first_pixel = 0\n",
    "    if filter_included:\n",
    "        rowbytes += 1\n",
    "        first_pixel = 1\n",
    "        \n",
    "    for r in xrange(0, len(data), rowbytes):\n",
    "        row = data[r : r + rowbytes]\n",
    "        #print \"row\", row, len(row)\n",
    "        raster_row = []\n",
    "\n",
    "        for c in xrange(first_pixel, rowbytes, bytes_per_pixel):\n",
    "            #print c, bytes_per_pixel, row[c : c + bytes_per_pixel]\n",
    "            p = pixel(row[c : c + bytes_per_pixel], color_type)\n",
    "            #print p\n",
    "            raster_row.append(p)\n",
    "\n",
    "        raster.append(raster_row)\n",
    "    return raster"
   ]
  },
  {
   "cell_type": "code",
   "execution_count": 3,
   "metadata": {},
   "outputs": [],
   "source": [
    "def load_png_log(png_log):\n",
    "    '''\n",
    "    Lifted from test_flate_png.py :: util_test_flate_png_alt_from_png_log_file\n",
    "    \n",
    "    Reads xxxxx.png.log and produces a raster of both expected and data\n",
    "    '''\n",
    "    with open(png_log) as f:\n",
    "        \n",
    "        data = array.array('B')\n",
    "        expected = array.array('B')\n",
    "        width = 0 \n",
    "        bit_depth = 0 \n",
    "        channels = 0 \n",
    "        color_type = 0 \n",
    "        pixel_depth = 0 \n",
    "        rowbytes = 0 \n",
    "        filter = 0 \n",
    "        nrows = 0 \n",
    "\n",
    "        for l in f.readlines():\n",
    "\n",
    "            if l.startswith(\"PASS:\"):\n",
    "                break\n",
    "\n",
    "            l = l.split(' = ')\n",
    "            var = l[0]\n",
    "            val = l[1]\n",
    "\n",
    "            if var == 'width':\n",
    "                width = int(val)\n",
    "\n",
    "            elif var == 'bit_depth':\n",
    "                bit_depth = int(val)\n",
    "\n",
    "            elif var == 'channels':\n",
    "                channels = int(val)\n",
    "\n",
    "            elif var == 'color_type':\n",
    "               color_type = int(val)\n",
    "\n",
    "            elif var == 'pixel_depth':\n",
    "                pixel_depth = int(val)\n",
    "\n",
    "            elif var == 'rowbytes':\n",
    "                rowbytes = int(val)\n",
    "\n",
    "            elif var == 'filter':\n",
    "                filter = int(val)\n",
    "\n",
    "            elif var == 'data':\n",
    "                d = ast.literal_eval(val)\n",
    "                data.append(filter)\n",
    "                data.extend(d)\n",
    "\n",
    "            elif var == 'expected':\n",
    "                e = ast.literal_eval(val)\n",
    "                expected.extend(e)\n",
    "                nrows += 1\n",
    "\n",
    "        print(\"width: %d\" % width)\n",
    "        print(\"bit_depth: %d\" % bit_depth)\n",
    "        print(\"channels: %d\" % channels)\n",
    "        print(\"color_type: %d\" % color_type)\n",
    "        print(\"pixel_depth: %d\" % pixel_depth)\n",
    "        print(\"rowbytes: %d\" % rowbytes)\n",
    "        print(\"filter: %d\" % filter)\n",
    "        print(\"expected: %d\" % len(expected))\n",
    "        print(\"data: %d\" % len(data))\n",
    "        print(\"nrows: %d\" % nrows)\n",
    "\n",
    "        assert color_type in [\n",
    "                    0, # Grayscale (Y)\n",
    "                    2, # Truecolor (RGB)\n",
    "                    # 3 Indexed is not supported (Palette)\n",
    "                    4, # Grayscale with alpha (YA)\n",
    "                    6, # Truecolor with alpha (RGBA)\n",
    "                ]\n",
    "        assert filter in [0, 1, 2, 3, 4]\n",
    "        assert channels * bit_depth == pixel_depth\n",
    "        assert (pixel_depth // 8) * width == rowbytes\n",
    "        bytes_per_pixel = pixel_depth // 8\n",
    "        assert 0 == pixel_depth % 8 # can't support pixels with bit_depth < 8\n",
    "        assert 8 == bit_depth # ideally, we should test bit_depth 16 also\n",
    "        assert nrows * (1 + width * bytes_per_pixel) == len(data) # 1 filter byte preceeding each row\n",
    "        assert nrows * width * bytes_per_pixel == len(expected)\n",
    "\n",
    "        ### Rasterize each buffer\n",
    "        raster = rasterizer(expected, rowbytes, bytes_per_pixel, color_type)\n",
    "        raster2 = rasterizer(data, rowbytes, bytes_per_pixel, color_type, filter_included=True)\n",
    "        \n",
    "    return (raster, raster2), (data, expected), (width, bit_depth, channels, color_type, pixel_depth, rowbytes, filter)"
   ]
  },
  {
   "cell_type": "markdown",
   "metadata": {},
   "source": [
    "## Visualizations of pre-canned xxx.png.log files"
   ]
  },
  {
   "cell_type": "code",
   "execution_count": 4,
   "metadata": {},
   "outputs": [
    {
     "name": "stdout",
     "output_type": "stream",
     "text": [
      "width: 32\n",
      "bit_depth: 8\n",
      "channels: 3\n",
      "color_type: 2\n",
      "pixel_depth: 24\n",
      "rowbytes: 96\n",
      "filter: 1\n",
      "expected: 3072\n",
      "data: 3104\n",
      "nrows: 32\n"
     ]
    },
    {
     "data": {
      "image/png": "[encoded data removed]",
      "text/plain": [
       "<matplotlib.figure.Figure at 0x1058f5bd0>"
      ]
     },
     "metadata": {},
     "output_type": "display_data"
    }
   ],
   "source": [
    "(raster, raster2), (data, expected), (width, bit_depth, channels, color_type, pixel_depth, rowbytes, filter) \\\n",
    "    = load_png_log('./basn2c08.png.log')\n",
    "    \n",
    "pyplot.imshow(raster)\n",
    "pyplot.show()"
   ]
  },
  {
   "cell_type": "code",
   "execution_count": 5,
   "metadata": {},
   "outputs": [
    {
     "name": "stdout",
     "output_type": "stream",
     "text": [
      "width: 32\n",
      "bit_depth: 8\n",
      "channels: 1\n",
      "color_type: 0\n",
      "pixel_depth: 8\n",
      "rowbytes: 32\n",
      "filter: 1\n",
      "expected: 1024\n",
      "data: 1056\n",
      "nrows: 32\n"
     ]
    },
    {
     "data": {
      "image/png": "[encoded data removed]",
      "text/plain": [
       "<matplotlib.figure.Figure at 0x107b84c90>"
      ]
     },
     "metadata": {},
     "output_type": "display_data"
    }
   ],
   "source": [
    "(raster, raster2), (data, expected), (width, bit_depth, channels, color_type, pixel_depth, rowbytes, filter) \\\n",
    "    = load_png_log('./basn0g08.png.log')\n",
    "\n",
    "pyplot.imshow(raster)\n",
    "pyplot.show()"
   ]
  },
  {
   "cell_type": "code",
   "execution_count": 6,
   "metadata": {},
   "outputs": [
    {
     "name": "stdout",
     "output_type": "stream",
     "text": [
      "width: 32\n",
      "bit_depth: 8\n",
      "channels: 3\n",
      "color_type: 2\n",
      "pixel_depth: 24\n",
      "rowbytes: 96\n",
      "filter: 1\n",
      "expected: 3072\n",
      "data: 3104\n",
      "nrows: 32\n"
     ]
    },
    {
     "data": {
      "image/png": "[encoded data removed]",
      "text/plain": [
       "<matplotlib.figure.Figure at 0x108000ed0>"
      ]
     },
     "metadata": {},
     "output_type": "display_data"
    }
   ],
   "source": [
    "(raster, raster2), (data, expected), (width, bit_depth, channels, color_type, pixel_depth, rowbytes, filter) \\\n",
    "    = load_png_log('./f01n2c08.png.log')\n",
    "\n",
    "pyplot.imshow(raster)\n",
    "pyplot.show()"
   ]
  },
  {
   "cell_type": "code",
   "execution_count": 7,
   "metadata": {},
   "outputs": [
    {
     "name": "stdout",
     "output_type": "stream",
     "text": [
      "width: 32\n",
      "bit_depth: 8\n",
      "channels: 3\n",
      "color_type: 2\n",
      "pixel_depth: 24\n",
      "rowbytes: 96\n",
      "filter: 2\n",
      "expected: 3072\n",
      "data: 3104\n",
      "nrows: 32\n"
     ]
    },
    {
     "data": {
      "image/png": "[encoded data removed]",
      "text/plain": [
       "<matplotlib.figure.Figure at 0x108168a50>"
      ]
     },
     "metadata": {},
     "output_type": "display_data"
    }
   ],
   "source": [
    "(raster, raster2), (data, expected), (width, bit_depth, channels, color_type, pixel_depth, rowbytes, filter) \\\n",
    "    = load_png_log('./f02n2c08.png.log')\n",
    "\n",
    "pyplot.imshow(raster)\n",
    "pyplot.show()"
   ]
  },
  {
   "cell_type": "code",
   "execution_count": 8,
   "metadata": {},
   "outputs": [
    {
     "name": "stdout",
     "output_type": "stream",
     "text": [
      "width: 32\n",
      "bit_depth: 8\n",
      "channels: 3\n",
      "color_type: 2\n",
      "pixel_depth: 24\n",
      "rowbytes: 96\n",
      "filter: 3\n",
      "expected: 3072\n",
      "data: 3104\n",
      "nrows: 32\n"
     ]
    },
    {
     "data": {
      "image/png": "[encoded data removed]",
      "text/plain": [
       "<matplotlib.figure.Figure at 0x106bd8ad0>"
      ]
     },
     "metadata": {},
     "output_type": "display_data"
    }
   ],
   "source": [
    "(raster, raster2), (data, expected), (width, bit_depth, channels, color_type, pixel_depth, rowbytes, filter) \\\n",
    "    = load_png_log('./f03n2c08.png.log')\n",
    "\n",
    "pyplot.imshow(raster)\n",
    "pyplot.show()"
   ]
  },
  {
   "cell_type": "code",
   "execution_count": 9,
   "metadata": {},
   "outputs": [
    {
     "name": "stdout",
     "output_type": "stream",
     "text": [
      "width: 32\n",
      "bit_depth: 8\n",
      "channels: 3\n",
      "color_type: 2\n",
      "pixel_depth: 24\n",
      "rowbytes: 96\n",
      "filter: 4\n",
      "expected: 3072\n",
      "data: 3104\n",
      "nrows: 32\n"
     ]
    },
    {
     "data": {
      "image/png": "[encoded data removed]",
      "text/plain": [
       "<matplotlib.figure.Figure at 0x107b4bfd0>"
      ]
     },
     "metadata": {},
     "output_type": "display_data"
    }
   ],
   "source": [
    "(raster, raster2), (data, expected), (width, bit_depth, channels, color_type, pixel_depth, rowbytes, filter) \\\n",
    "    = load_png_log('./f04n2c08.png.log')\n",
    "\n",
    "pyplot.imshow(raster)\n",
    "pyplot.show()"
   ]
  },
  {
   "cell_type": "markdown",
   "metadata": {},
   "source": [
    "## Utility code to visually compare the `result` produced by test-case and its `expected` output"
   ]
  },
  {
   "cell_type": "code",
   "execution_count": 10,
   "metadata": {},
   "outputs": [
    {
     "name": "stdout",
     "output_type": "stream",
     "text": [
      "32\n",
      "32\n",
      "32\n",
      "32\n"
     ]
    },
    {
     "data": {
      "image/png": "[encoded data removed]",
      "text/plain": [
       "<matplotlib.figure.Figure at 0x106d0c7d0>"
      ]
     },
     "metadata": {},
     "output_type": "display_data"
    },
    {
     "name": "stdout",
     "output_type": "stream",
     "text": [
      "3072\n",
      "32\n",
      "32\n"
     ]
    },
    {
     "data": {
      "image/png": "[encoded data removed]",
      "text/plain": [
       "<matplotlib.figure.Figure at 0x105924d10>"
      ]
     },
     "metadata": {},
     "output_type": "display_data"
    }
   ],
   "source": [
    "#\n",
    "# After running any of these tests (pytest -k test_flate_png_alt_file),\n",
    "#   two files are produced: tests/result.pickle and tests/expected.pickle.\n",
    "#   These files contain buffers that can be rendered\n",
    "#   Both rendered buffers must be identical\n",
    "\n",
    "import pickle\n",
    "with open('./result.pickle', 'rb') as f:\n",
    "    result = pickle.load(f)\n",
    "\n",
    "print len(raster)\n",
    "print len(raster[0])\n",
    "    \n",
    "res = rasterizer(result, 96, 3, 2)\n",
    "    \n",
    "print len(res)\n",
    "print len(res[0])\n",
    "\n",
    "pyplot.imshow(res)\n",
    "pyplot.show()\n",
    "\n",
    "with open('./expected.pickle', 'rb') as f:\n",
    "    expected = pickle.load(f)\n",
    "\n",
    "print len(expected)\n",
    "    \n",
    "res = rasterizer(expected, 96, 3, 2)\n",
    "    \n",
    "print len(res)\n",
    "print len(res[0])\n",
    "\n",
    "pyplot.imshow(res)\n",
    "pyplot.show()"
   ]
  },
  {
   "cell_type": "code",
   "execution_count": null,
   "metadata": {},
   "outputs": [],
   "source": []
  }
 ],
 "metadata": {
  "kernelspec": {
   "display_name": "Python 2",
   "language": "python",
   "name": "python2"
  },
  "language_info": {
   "codemirror_mode": {
    "name": "ipython",
    "version": 2
   },
   "file_extension": ".py",
   "mimetype": "text/x-python",
   "name": "python",
   "nbconvert_exporter": "python",
   "pygments_lexer": "ipython2",
   "version": "2.7.11"
  }
 },
 "nbformat": 4,
 "nbformat_minor": 2
}
